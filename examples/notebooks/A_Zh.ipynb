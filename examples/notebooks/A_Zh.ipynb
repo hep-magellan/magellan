{
 "cells": [
  {
   "cell_type": "markdown",
   "metadata": {},
   "source": [
    "# $A \\rightarrow Zh$ measurement"
   ]
  },
  {
   "cell_type": "markdown",
   "metadata": {},
   "source": [
    "This notebook demonstrates the use of the `Measurement` class and how it interacts with the scanned points"
   ]
  },
  {
   "cell_type": "markdown",
   "metadata": {},
   "source": [
    "Initialize the framework"
   ]
  },
  {
   "cell_type": "code",
   "execution_count": 1,
   "metadata": {},
   "outputs": [
    {
     "name": "stdout",
     "output_type": "stream",
     "text": [
      "import ATLAS_EXOT_2016_31.analysis\n",
      "import ATLAS_EXOT_2016_10.analysis\n",
      "import ATLAS_HIGG_2016_12.analysis\n",
      "Setup script loaded.\n",
      "Available commands: \n",
      " - jup.ignore_warnings()\n",
      " - jup.save_to_html()\n"
     ]
    }
   ],
   "source": [
    "from initializer.general.initializer import  *"
   ]
  },
  {
   "cell_type": "markdown",
   "metadata": {},
   "source": [
    "Load in matplotlib cosmetics template"
   ]
  },
  {
   "cell_type": "code",
   "execution_count": 2,
   "metadata": {},
   "outputs": [],
   "source": [
    "mplcosm.load_mpl_style('single_plot.mplstyle')"
   ]
  },
  {
   "cell_type": "markdown",
   "metadata": {},
   "source": [
    "Load in ATLAS-EXOT-2016-10 measurement "
   ]
  },
  {
   "cell_type": "code",
   "execution_count": 3,
   "metadata": {},
   "outputs": [],
   "source": [
    "AZh_m = measurement_database['ATLAS_EXOT_2016_10']"
   ]
  },
  {
   "cell_type": "markdown",
   "metadata": {},
   "source": [
    "The `Measurement` contains some elementary description of the measurement"
   ]
  },
  {
   "cell_type": "markdown",
   "metadata": {},
   "source": [
    "Process"
   ]
  },
  {
   "cell_type": "code",
   "execution_count": 4,
   "metadata": {},
   "outputs": [
    {
     "data": {
      "text/plain": [
       "'$A \\\\rightarrow Zh$'"
      ]
     },
     "execution_count": 4,
     "metadata": {},
     "output_type": "execute_result"
    }
   ],
   "source": [
    "AZh_m.process"
   ]
  },
  {
   "cell_type": "markdown",
   "metadata": {},
   "source": [
    "Luminosity in [fb]"
   ]
  },
  {
   "cell_type": "code",
   "execution_count": 5,
   "metadata": {},
   "outputs": [
    {
     "data": {
      "text/plain": [
       "36.0"
      ]
     },
     "execution_count": 5,
     "metadata": {},
     "output_type": "execute_result"
    }
   ],
   "source": [
    "AZh_m.luminosity"
   ]
  },
  {
   "cell_type": "markdown",
   "metadata": {},
   "source": [
    "$\\sqrt{s}$ in [TeV]"
   ]
  },
  {
   "cell_type": "code",
   "execution_count": 6,
   "metadata": {},
   "outputs": [
    {
     "data": {
      "text/plain": [
       "13.0"
      ]
     },
     "execution_count": 6,
     "metadata": {},
     "output_type": "execute_result"
    }
   ],
   "source": [
    "AZh_m.sqrt_s"
   ]
  },
  {
   "cell_type": "code",
   "execution_count": 7,
   "metadata": {},
   "outputs": [
    {
     "data": {
      "text/plain": [
       "<matplotlib.axes._subplots.AxesSubplot at 0x1a17538d30>"
      ]
     },
     "execution_count": 7,
     "metadata": {},
     "output_type": "execute_result"
    },
    {
     "data": {
      "image/png": "[encoded data removed]",
      "text/plain": [
       "<Figure size 720x504 with 1 Axes>"
      ]
     },
     "metadata": {},
     "output_type": "display_data"
    }
   ],
   "source": [
    "AZh_m.data['measurement_data'].query('GammaA_div_mA == 0.0').plot('mA', 'limit_exp')"
   ]
  },
  {
   "cell_type": "code",
   "execution_count": 8,
   "metadata": {},
   "outputs": [],
   "source": [
    "scan_pts_all =  pd.read_hdf(magconf.paths['default_dataset'])"
   ]
  },
  {
   "cell_type": "code",
   "execution_count": 9,
   "metadata": {
    "scrolled": false
   },
   "outputs": [
    {
     "name": "stdout",
     "output_type": "stream",
     "text": [
      "\n",
      "################################\n",
      "### --- Before selection --- ###\n",
      "################################\n",
      "\n",
      "Number of points:  2285891\n",
      "Header:\n",
      "          Z7       mH      mHc       mA       cba        tb     sinba       Z4  \\\n",
      "0  1.024420  926.921  1079.41  1062.75  0.023845  0.702119  0.999716 -5.64294   \n",
      "1  0.767227  913.875  1045.73  1041.19  0.038237  0.738020  0.999269 -4.43812   \n",
      "\n",
      "        Z5     m12_2  ...    log_xsec_sushi_ggh_A_NNLO  \\\n",
      "0 -4.46587  350294.0  ...                    -0.683743   \n",
      "1 -4.12540  338188.0  ...                    -0.670148   \n",
      "\n",
      "   log_xsec_sushi_ggh_H_NNLO  log_xsec_sushi_ggh_A_NNLO_x_br_A_tautau  \\\n",
      "0                  -0.437370                                -5.678117   \n",
      "1                  -0.455207                                -5.578067   \n",
      "\n",
      "   log_xsec_sushi_ggh_A_NNLO_x_br_A_bb  log_xsec_sushi_ggh_A_NNLO_x_br_A_tt  \\\n",
      "0                            -4.842965                            -0.694342   \n",
      "1                            -4.742872                            -0.680275   \n",
      "\n",
      "   log_xsec_sushi_ggh_H_NNLO_x_br_H_ZA  xsec_sushi_ggh_H_NNLO_x_br_H_hh_bbbb  \\\n",
      "0                                 -inf                              0.000666   \n",
      "1                                 -inf                              0.001684   \n",
      "\n",
      "   mA_bin  mH_bin  index  \n",
      "0     NaN   925.0      0  \n",
      "1     NaN   925.0      1  \n",
      "\n",
      "[2 rows x 136 columns]\n",
      "Columns:\n",
      " Index(['Z7', 'mH', 'mHc', 'mA', 'cba', 'tb', 'sinba', 'Z4', 'Z5', 'm12_2',\n",
      "       'l1', 'l2', 'l3', 'l4', 'l5', 'l6', 'l7', 'g_HpHmh', 'Gamma_h',\n",
      "       'Gamma_H', 'Gamma_Hc', 'Gamma_A', 'br_h_bb', 'br_h_tautau', 'br_h_gg',\n",
      "       'br_h_WW', 'br_h_ZZ', 'br_h_gaga', 'br_A_tt', 'br_A_bb', 'br_A_gg',\n",
      "       'br_A_mumu', 'br_A_tautau', 'br_A_Zga', 'br_A_Zh', 'br_A_ZH',\n",
      "       'br_A_gaga', 'br_H_tt', 'br_H_bb', 'br_H_gg', 'br_H_mumu',\n",
      "       'br_H_tautau', 'br_H_Zga', 'br_H_Zh', 'br_H_WW', 'br_H_ZZ', 'br_H_ZA',\n",
      "       'br_H_hh', 'br_H_AA_tmp', 'br_H_gaga', 'br_Hp_tb', 'br_Hp_taunu',\n",
      "       'br_Hp_Wh', 'br_Hp_WH', 'br_Hp_WA', 'sta', 'uni', 'per_4pi', 'per_8pi',\n",
      "       'S', 'T', 'U', 'V', 'W', 'X', 'delta_rho', 'delta_amu', 'tot_hbobs',\n",
      "       'sens_ch', 'chi2_HS', 'chi2_ST_hepfit', 'chi2_ST_gfitter',\n",
      "       'chi2_Tot_hepfit', 'chi2_Tot_gfitter', 'k_huu', 'k_hdd', 'likelihood',\n",
      "       'stay_count', 'xsec_sushi_ggh_A_NNLO', 'xsec_sushi_ggh_A_NNLO_stat_unc',\n",
      "       'xsec_sushi_ggh_A_NNLO_minus_muR_unc',\n",
      "       'xsec_sushi_ggh_A_NNLO_plus_muR_unc', 'xsec_sushi_bbh_A_NNLO',\n",
      "       'xsec_sushi_bbh_A_NNLO_stat_unc', 'xsec_sushi_ggh_A_NNLO_htop_lim',\n",
      "       'xsec_sushi_ggh_A_NNLO_htop_lim_stat_unc', 'xsec_sushi_ggh_H_NNLO',\n",
      "       'xsec_sushi_ggh_H_NNLO_stat_unc', 'xsec_sushi_ggh_H_NNLO_minus_muR_unc',\n",
      "       'xsec_sushi_ggh_H_NNLO_plus_muR_unc', 'xsec_sushi_bbh_H_NNLO',\n",
      "       'xsec_sushi_bbh_H_NNLO_stat_unc', 'xsec_sushi_ggh_H_NNLO_htop_lim',\n",
      "       'xsec_sushi_ggh_H_NNLO_htop_lim_stat_unc',\n",
      "       'xsec_sushi_ggh_A_NNLO_x_br_A_tt', 'xsec_sushi_ggh_A_NNLO_x_br_A_bb',\n",
      "       'xsec_sushi_ggh_A_NNLO_x_br_A_gg', 'xsec_sushi_ggh_A_NNLO_x_br_A_mumu',\n",
      "       'xsec_sushi_ggh_A_NNLO_x_br_A_tautau',\n",
      "       'xsec_sushi_ggh_A_NNLO_x_br_A_Zga', 'xsec_sushi_ggh_A_NNLO_x_br_A_Zh',\n",
      "       'xsec_sushi_ggh_A_NNLO_x_br_A_ZH', 'xsec_sushi_ggh_A_NNLO_x_br_A_gaga',\n",
      "       'xsec_sushi_ggh_H_NNLO_x_br_H_tt', 'xsec_sushi_ggh_H_NNLO_x_br_H_bb',\n",
      "       'xsec_sushi_ggh_H_NNLO_x_br_H_gg', 'xsec_sushi_ggh_H_NNLO_x_br_H_mumu',\n",
      "       'xsec_sushi_ggh_H_NNLO_x_br_H_tautau',\n",
      "       'xsec_sushi_ggh_H_NNLO_x_br_H_Zga', 'xsec_sushi_ggh_H_NNLO_x_br_H_Zh',\n",
      "       'xsec_sushi_ggh_H_NNLO_x_br_H_WW', 'xsec_sushi_ggh_H_NNLO_x_br_H_ZZ',\n",
      "       'xsec_sushi_ggh_H_NNLO_x_br_H_ZA', 'xsec_sushi_ggh_H_NNLO_x_br_H_AA',\n",
      "       'xsec_sushi_ggh_H_NNLO_x_br_H_hh',\n",
      "       'xsec_sushi_ggh_H_NNLO_x_br_H_hh_x_br_hh_bbbb',\n",
      "       'xsec_sushi_ggh_H_NNLO_x_br_H_hh_x_br_hh_bbtautau',\n",
      "       'xsec_sushi_ggh_H_NNLO_x_br_H_hh_x_br_hh_bbgaga',\n",
      "       'xsec_sushi_ggh_H_NNLO_x_br_H_gaga', 'GammaA_div_mA', 'GammaH_div_mH',\n",
      "       'mA_minus_mHc', 'mH_minus_mHc', 'Gamma_div_mass_A', 'Gamma_div_mass_H',\n",
      "       'k_hdd_type', 'log_xsec_sushi_ggh_A_NNLO', 'log_xsec_sushi_ggh_H_NNLO',\n",
      "       'log_xsec_sushi_ggh_A_NNLO_x_br_A_tautau',\n",
      "       'log_xsec_sushi_ggh_A_NNLO_x_br_A_bb',\n",
      "       'log_xsec_sushi_ggh_A_NNLO_x_br_A_tt',\n",
      "       'log_xsec_sushi_ggh_H_NNLO_x_br_H_ZA',\n",
      "       'xsec_sushi_ggh_H_NNLO_x_br_H_hh_bbbb', 'mA_bin', 'mH_bin', 'index'],\n",
      "      dtype='object')\n",
      "\n",
      "---------------------------\n",
      "\n",
      "Dataset info\n",
      "\n",
      "chi2_Tot_min:        63.036\n",
      "chi2_Tot_max:        111.605\n",
      "chi2_HS_min:         62.916\n",
      "chi2_HS_max:         91.689\n",
      "chi2_ST_gfitter_min: 0.000\n",
      "chi2_ST_gfitter_max: 44.836\n",
      "m12_2_min:           -254077.000\n",
      "m12_2_max:           1731790.000\n",
      "---------------------------\n",
      "\n",
      "Number of points with (sta == 0 | per_4pi == 0 | uni == 0): 1402231\n",
      "Number of points with (tot_hbobs > 1.0): 415875\n",
      "Total number of points: 2285891\n",
      "\n",
      "#########################\n",
      "### --- Selection --- ###\n",
      "#########################\n",
      "Chosen chi2 CL level: 0.9545\n",
      "Chosen chi2 d.o.f: 4\n",
      "Condition:  per_4pi == 1 & mHc > 580.0 & tot_hbobs < 1.0 & chi2_Tot_gfitter < 72.751\n",
      "\n",
      "################################\n",
      "### --- After selection --- ###\n",
      "################################\n",
      "Number of points:  405356\n",
      "Header:\n",
      "           Z7       mH       mHc       mA       cba        tb     sinba  \\\n",
      "4   0.485522  926.243  1062.370  1037.33  0.042626  0.666993  0.999091   \n",
      "20 -2.784030  979.970   989.605  1008.83  0.054320  1.243470  0.998524   \n",
      "\n",
      "          Z4        Z5     m12_2  ...    log_xsec_sushi_ggh_A_NNLO  \\\n",
      "4  -5.357450 -3.623270  359113.0  ...                    -0.572226   \n",
      "20  0.274695 -0.992703  336957.0  ...                    -1.034233   \n",
      "\n",
      "    log_xsec_sushi_ggh_H_NNLO  log_xsec_sushi_ggh_A_NNLO_x_br_A_tautau  \\\n",
      "4                   -0.401806                                -5.651213   \n",
      "20                  -1.127335                                -5.040234   \n",
      "\n",
      "    log_xsec_sushi_ggh_A_NNLO_x_br_A_bb  log_xsec_sushi_ggh_A_NNLO_x_br_A_tt  \\\n",
      "4                             -4.813027                            -0.577521   \n",
      "20                            -4.211005                            -1.047775   \n",
      "\n",
      "    log_xsec_sushi_ggh_H_NNLO_x_br_H_ZA  xsec_sushi_ggh_H_NNLO_x_br_H_hh_bbbb  \\\n",
      "4                                  -inf                              0.002430   \n",
      "20                                 -inf                              0.001344   \n",
      "\n",
      "    mA_bin  mH_bin  index  \n",
      "4      NaN   925.0      4  \n",
      "20     NaN   975.0     20  \n",
      "\n",
      "[2 rows x 136 columns]\n",
      "Columns:\n",
      " Index(['Z7', 'mH', 'mHc', 'mA', 'cba', 'tb', 'sinba', 'Z4', 'Z5', 'm12_2',\n",
      "       'l1', 'l2', 'l3', 'l4', 'l5', 'l6', 'l7', 'g_HpHmh', 'Gamma_h',\n",
      "       'Gamma_H', 'Gamma_Hc', 'Gamma_A', 'br_h_bb', 'br_h_tautau', 'br_h_gg',\n",
      "       'br_h_WW', 'br_h_ZZ', 'br_h_gaga', 'br_A_tt', 'br_A_bb', 'br_A_gg',\n",
      "       'br_A_mumu', 'br_A_tautau', 'br_A_Zga', 'br_A_Zh', 'br_A_ZH',\n",
      "       'br_A_gaga', 'br_H_tt', 'br_H_bb', 'br_H_gg', 'br_H_mumu',\n",
      "       'br_H_tautau', 'br_H_Zga', 'br_H_Zh', 'br_H_WW', 'br_H_ZZ', 'br_H_ZA',\n",
      "       'br_H_hh', 'br_H_AA_tmp', 'br_H_gaga', 'br_Hp_tb', 'br_Hp_taunu',\n",
      "       'br_Hp_Wh', 'br_Hp_WH', 'br_Hp_WA', 'sta', 'uni', 'per_4pi', 'per_8pi',\n",
      "       'S', 'T', 'U', 'V', 'W', 'X', 'delta_rho', 'delta_amu', 'tot_hbobs',\n",
      "       'sens_ch', 'chi2_HS', 'chi2_ST_hepfit', 'chi2_ST_gfitter',\n",
      "       'chi2_Tot_hepfit', 'chi2_Tot_gfitter', 'k_huu', 'k_hdd', 'likelihood',\n",
      "       'stay_count', 'xsec_sushi_ggh_A_NNLO', 'xsec_sushi_ggh_A_NNLO_stat_unc',\n",
      "       'xsec_sushi_ggh_A_NNLO_minus_muR_unc',\n",
      "       'xsec_sushi_ggh_A_NNLO_plus_muR_unc', 'xsec_sushi_bbh_A_NNLO',\n",
      "       'xsec_sushi_bbh_A_NNLO_stat_unc', 'xsec_sushi_ggh_A_NNLO_htop_lim',\n",
      "       'xsec_sushi_ggh_A_NNLO_htop_lim_stat_unc', 'xsec_sushi_ggh_H_NNLO',\n",
      "       'xsec_sushi_ggh_H_NNLO_stat_unc', 'xsec_sushi_ggh_H_NNLO_minus_muR_unc',\n",
      "       'xsec_sushi_ggh_H_NNLO_plus_muR_unc', 'xsec_sushi_bbh_H_NNLO',\n",
      "       'xsec_sushi_bbh_H_NNLO_stat_unc', 'xsec_sushi_ggh_H_NNLO_htop_lim',\n",
      "       'xsec_sushi_ggh_H_NNLO_htop_lim_stat_unc',\n",
      "       'xsec_sushi_ggh_A_NNLO_x_br_A_tt', 'xsec_sushi_ggh_A_NNLO_x_br_A_bb',\n",
      "       'xsec_sushi_ggh_A_NNLO_x_br_A_gg', 'xsec_sushi_ggh_A_NNLO_x_br_A_mumu',\n",
      "       'xsec_sushi_ggh_A_NNLO_x_br_A_tautau',\n",
      "       'xsec_sushi_ggh_A_NNLO_x_br_A_Zga', 'xsec_sushi_ggh_A_NNLO_x_br_A_Zh',\n",
      "       'xsec_sushi_ggh_A_NNLO_x_br_A_ZH', 'xsec_sushi_ggh_A_NNLO_x_br_A_gaga',\n",
      "       'xsec_sushi_ggh_H_NNLO_x_br_H_tt', 'xsec_sushi_ggh_H_NNLO_x_br_H_bb',\n",
      "       'xsec_sushi_ggh_H_NNLO_x_br_H_gg', 'xsec_sushi_ggh_H_NNLO_x_br_H_mumu',\n",
      "       'xsec_sushi_ggh_H_NNLO_x_br_H_tautau',\n",
      "       'xsec_sushi_ggh_H_NNLO_x_br_H_Zga', 'xsec_sushi_ggh_H_NNLO_x_br_H_Zh',\n",
      "       'xsec_sushi_ggh_H_NNLO_x_br_H_WW', 'xsec_sushi_ggh_H_NNLO_x_br_H_ZZ',\n",
      "       'xsec_sushi_ggh_H_NNLO_x_br_H_ZA', 'xsec_sushi_ggh_H_NNLO_x_br_H_AA',\n",
      "       'xsec_sushi_ggh_H_NNLO_x_br_H_hh',\n",
      "       'xsec_sushi_ggh_H_NNLO_x_br_H_hh_x_br_hh_bbbb',\n",
      "       'xsec_sushi_ggh_H_NNLO_x_br_H_hh_x_br_hh_bbtautau',\n",
      "       'xsec_sushi_ggh_H_NNLO_x_br_H_hh_x_br_hh_bbgaga',\n",
      "       'xsec_sushi_ggh_H_NNLO_x_br_H_gaga', 'GammaA_div_mA', 'GammaH_div_mH',\n",
      "       'mA_minus_mHc', 'mH_minus_mHc', 'Gamma_div_mass_A', 'Gamma_div_mass_H',\n",
      "       'k_hdd_type', 'log_xsec_sushi_ggh_A_NNLO', 'log_xsec_sushi_ggh_H_NNLO',\n",
      "       'log_xsec_sushi_ggh_A_NNLO_x_br_A_tautau',\n",
      "       'log_xsec_sushi_ggh_A_NNLO_x_br_A_bb',\n",
      "       'log_xsec_sushi_ggh_A_NNLO_x_br_A_tt',\n",
      "       'log_xsec_sushi_ggh_H_NNLO_x_br_H_ZA',\n",
      "       'xsec_sushi_ggh_H_NNLO_x_br_H_hh_bbbb', 'mA_bin', 'mH_bin', 'index'],\n",
      "      dtype='object')\n",
      "\n",
      "---------------------------\n",
      "\n",
      "Dataset info\n",
      "\n",
      "chi2_Tot_min:        63.270\n",
      "chi2_Tot_max:        72.751\n",
      "chi2_HS_min:         62.916\n",
      "chi2_HS_max:         72.345\n",
      "chi2_ST_gfitter_min: 0.221\n",
      "chi2_ST_gfitter_max: 9.746\n",
      "m12_2_min:           -20947.300\n",
      "m12_2_max:           1731790.000\n",
      "---------------------------\n",
      "\n",
      "Number of points with (sta == 0 | per_4pi == 0 | uni == 0): 0\n",
      "Number of points with (tot_hbobs > 1.0): 0\n",
      "Total number of points: 405356\n"
     ]
    }
   ],
   "source": [
    "pts = analysis.filter_dataset(scan_pts_all, show_diagnostics=False)"
   ]
  },
  {
   "cell_type": "code",
   "execution_count": 11,
   "metadata": {},
   "outputs": [
    {
     "data": {
      "text/plain": [
       "(1e-05, 10)"
      ]
     },
     "execution_count": 11,
     "metadata": {},
     "output_type": "execute_result"
    },
    {
     "data": {
      "image/png": "[encoded data removed]",
      "text/plain": [
       "<Figure size 720x504 with 1 Axes>"
      ]
     },
     "metadata": {},
     "output_type": "display_data"
    }
   ],
   "source": [
    "fig, ax = AZh_m.plot_excluded_pts(pts, observable='xsec_sushi_ggh_A_NNLO_x_br_A_Zh', limit_scaling_factor=1.0)\n",
    "ax.set_yscale('log')\n",
    "ax.set_ylim(1e-5,10)"
   ]
  },
  {
   "cell_type": "code",
   "execution_count": 12,
   "metadata": {},
   "outputs": [],
   "source": [
    "window_axes = [ \n",
    "               ['mA', 'xsec_sushi_ggh_A_NNLO_x_br_A_Zh'],\n",
    "               ['mA', 'GammaA_div_mA'],\n",
    "               ['cba', 'GammaA_div_mA'],\n",
    "               ['cba', 'tb'],\n",
    "               ['cba', 'mA'],\n",
    "               ['tb', 'mA'],\n",
    "               ['mH', 'mHc'],\n",
    "               ['mA', 'mHc'],\n",
    "               ['mA',  'mH'],\n",
    "]"
   ]
  },
  {
   "cell_type": "code",
   "execution_count": 13,
   "metadata": {},
   "outputs": [],
   "source": [
    "mplcosm.load_mpl_style('3_by_3.mplstyle')"
   ]
  },
  {
   "cell_type": "code",
   "execution_count": null,
   "metadata": {},
   "outputs": [
    {
     "name": "stdout",
     "output_type": "stream",
     "text": [
      "exclusion_from_analysis() started\n",
      "limit_scaling_factor: 1.0\n",
      "Determining excluded points.\n"
     ]
    }
   ],
   "source": [
    "fig, ax = pl.exclusion_from_analysis_projection(pts, window_axes, measurement=AZh_m,\n",
    "            observable='xsec_sushi_ggh_A_NNLO_x_br_A_Zh', plot_order='excl_nonexcl', lumiscale=1.0)"
   ]
  },
  {
   "cell_type": "code",
   "execution_count": null,
   "metadata": {},
   "outputs": [],
   "source": [
    "fig, ax = pl.exclusion_from_analysis_projection(pts, window_axes, measurement=AZh_m,\n",
    "            observable='xsec_sushi_ggh_A_NNLO_x_br_A_Zh', plot_order='excl_nonexcl', lumiscale=10.0)"
   ]
  }
 ],
 "metadata": {
  "kernelspec": {
   "display_name": "Python 3",
   "language": "python",
   "name": "python3"
  },
  "language_info": {
   "codemirror_mode": {
    "name": "ipython",
    "version": 3
   },
   "file_extension": ".py",
   "mimetype": "text/x-python",
   "name": "python",
   "nbconvert_exporter": "python",
   "pygments_lexer": "ipython3",
   "version": "3.6.8"
  }
 },
 "nbformat": 4,
 "nbformat_minor": 2
}
